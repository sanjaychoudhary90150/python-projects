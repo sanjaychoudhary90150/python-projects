{
 "cells": [
  {
   "cell_type": "code",
   "execution_count": 1,
   "id": "1d2a6f04",
   "metadata": {},
   "outputs": [],
   "source": [
    "import cv2"
   ]
  },
  {
   "cell_type": "code",
   "execution_count": 2,
   "id": "b092e1e0",
   "metadata": {},
   "outputs": [],
   "source": [
    "import mediapipe as mp"
   ]
  },
  {
   "cell_type": "code",
   "execution_count": 3,
   "id": "19ad4814",
   "metadata": {},
   "outputs": [],
   "source": [
    "import pyautogui"
   ]
  },
  {
   "cell_type": "code",
   "execution_count": 4,
   "id": "aff38b4f",
   "metadata": {},
   "outputs": [],
   "source": [
    "x1=y1=x2=y2=0"
   ]
  },
  {
   "cell_type": "code",
   "execution_count": 5,
   "id": "121e2368",
   "metadata": {},
   "outputs": [],
   "source": [
    "webcam=cv2.VideoCapture(0)"
   ]
  },
  {
   "cell_type": "code",
   "execution_count": 6,
   "id": "f03a3582",
   "metadata": {},
   "outputs": [],
   "source": [
    "my_hand=mp.solutions.hands.Hands()\n",
    "drawing_utils=mp.solutions.drawing_utils"
   ]
  },
  {
   "cell_type": "code",
   "execution_count": 7,
   "id": "7314d4b7",
   "metadata": {},
   "outputs": [],
   "source": [
    "while True:\n",
    "    _ ,image=webcam.read()\n",
    "    image=cv2.flip(image,1)\n",
    "    frame_height,frame_width,_ =image.shape\n",
    "    rgb_image=cv2.cvtColor(image,cv2.COLOR_BGR2RGB)\n",
    "    output=my_hand.process(rgb_image)\n",
    "    hands=output.multi_hand_landmarks\n",
    "    if hands:\n",
    "        for hand in hands:\n",
    "            drawing_utils.draw_landmarks(image,hand)\n",
    "            landmarks=hand.landmark\n",
    "            for id, landmark in enumerate(landmarks):\n",
    "                x=int(landmark.x * frame_width)\n",
    "                y=int(landmark.y * frame_height)\n",
    "                if id==8:\n",
    "                    cv2.circle(img=image,center=(x,y),radius=8,color=(0,255,255),thickness=3)\n",
    "                    x1=x\n",
    "                    y1=y\n",
    "                if id==4:\n",
    "                    cv2.circle(img=image,center=(x,y),radius=8,color=(0,255,255),thickness=3)\n",
    "                    x2=x\n",
    "                    y2=y\n",
    "        dist= ((x2-x1)**2 +(y2-y1)**2)**(0.5)//4\n",
    "        cv2.line(image,(x1,y1),(x2,y2),(0,255,0),5)\n",
    "        if dist >50:\n",
    "            pyautogui.press(\"volumeup\")\n",
    "        else:\n",
    "            pyautogui.press('volumedown')\n",
    "    cv2.imshow(\"HAND VOLUME CONTROL USING PYTHON\",image)\n",
    "    if cv2.waitKey(1) & 0xFF==ord('x'):\n",
    "        break\n",
    "webcam.release()\n",
    "cv2.destroyAllWindows()"
   ]
  },
  {
   "cell_type": "code",
   "execution_count": null,
   "id": "f7e02c09",
   "metadata": {},
   "outputs": [],
   "source": []
  },
  {
   "cell_type": "code",
   "execution_count": null,
   "id": "c8d068cb",
   "metadata": {},
   "outputs": [],
   "source": []
  }
 ],
 "metadata": {
  "kernelspec": {
   "display_name": "Python 3 (ipykernel)",
   "language": "python",
   "name": "python3"
  },
  "language_info": {
   "codemirror_mode": {
    "name": "ipython",
    "version": 3
   },
   "file_extension": ".py",
   "mimetype": "text/x-python",
   "name": "python",
   "nbconvert_exporter": "python",
   "pygments_lexer": "ipython3",
   "version": "3.11.4"
  }
 },
 "nbformat": 4,
 "nbformat_minor": 5
}
